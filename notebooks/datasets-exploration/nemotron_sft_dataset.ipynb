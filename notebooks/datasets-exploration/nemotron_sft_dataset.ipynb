{
 "cells": [
  {
   "cell_type": "markdown",
   "metadata": {},
   "source": [
    "# Nemotron SFT dataset analysis\n",
    "As part of the Llama-Nemotron release, Nvidia released a post training dataset:\n",
    " - https://huggingface.co/datasets/nvidia/Llama-Nemotron-Post-Training-Dataset-v1/viewer\n",
    "\n",
    "\n",
    "This notebook dives into this dataset to see what the SFT subset have to offer."
   ]
  },
  {
   "cell_type": "code",
   "execution_count": 1,
   "metadata": {},
   "outputs": [
    {
     "data": {
      "application/vnd.jupyter.widget-view+json": {
       "model_id": "d09743475675444882daa91957ce10b4",
       "version_major": 2,
       "version_minor": 0
      },
      "text/plain": [
       "Loading dataset shards:   0%|          | 0/60 [00:00<?, ?it/s]"
      ]
     },
     "metadata": {},
     "output_type": "display_data"
    },
    {
     "data": {
      "application/vnd.jupyter.widget-view+json": {
       "model_id": "98d6aaa54fca488784499472e442dab8",
       "version_major": 2,
       "version_minor": 0
      },
      "text/plain": [
       "Loading dataset shards:   0%|          | 0/67 [00:00<?, ?it/s]"
      ]
     },
     "metadata": {},
     "output_type": "display_data"
    },
    {
     "data": {
      "text/plain": [
       "DatasetDict({\n",
       "    code: Dataset({\n",
       "        features: ['input', 'output', 'category', 'license', 'reasoning', 'generator', 'used_in_training'],\n",
       "        num_rows: 9612677\n",
       "    })\n",
       "    math: Dataset({\n",
       "        features: ['input', 'output', 'category', 'license', 'reasoning', 'generator', 'used_in_training'],\n",
       "        num_rows: 19840970\n",
       "    })\n",
       "    science: Dataset({\n",
       "        features: ['input', 'output', 'category', 'license', 'reasoning', 'generator', 'used_in_training'],\n",
       "        num_rows: 708920\n",
       "    })\n",
       "    chat: Dataset({\n",
       "        features: ['input', 'output', 'category', 'license', 'reasoning', 'generator', 'used_in_training'],\n",
       "        num_rows: 39792\n",
       "    })\n",
       "    safety: Dataset({\n",
       "        features: ['input', 'output', 'category', 'license', 'reasoning', 'generator', 'used_in_training'],\n",
       "        num_rows: 31426\n",
       "    })\n",
       "})"
      ]
     },
     "execution_count": 1,
     "metadata": {},
     "output_type": "execute_result"
    }
   ],
   "source": [
    "from datasets import load_dataset\n",
    "\n",
    "dataset = load_dataset(\"nvidia/Llama-Nemotron-Post-Training-Dataset-v1\")\n",
    "dataset"
   ]
  },
  {
   "cell_type": "markdown",
   "metadata": {},
   "source": [
    "## Merge data\n",
    "\n",
    "Nemotron dataset is divided into different categories, let's merge all into a single dataset and retain a column origin to act as key from which dataset it orignated. Due to big size of input data, let's batch and GC while executing. "
   ]
  },
  {
   "cell_type": "code",
   "execution_count": 3,
   "metadata": {},
   "outputs": [
    {
     "data": {
      "application/vnd.jupyter.widget-view+json": {
       "model_id": "42addf754e8145ff82fc27d09f4bab94",
       "version_major": 2,
       "version_minor": 0
      },
      "text/plain": [
       "Map:   0%|          | 0/9612677 [00:00<?, ? examples/s]"
      ]
     },
     "metadata": {},
     "output_type": "display_data"
    },
    {
     "data": {
      "application/vnd.jupyter.widget-view+json": {
       "model_id": "5ca2e917bebf422cbd0b44b993f5e91f",
       "version_major": 2,
       "version_minor": 0
      },
      "text/plain": [
       "Map:   0%|          | 0/19840970 [00:00<?, ? examples/s]"
      ]
     },
     "metadata": {},
     "output_type": "display_data"
    },
    {
     "data": {
      "application/vnd.jupyter.widget-view+json": {
       "model_id": "3c4d3074eec747308f199c15dc9edf5d",
       "version_major": 2,
       "version_minor": 0
      },
      "text/plain": [
       "Map:   0%|          | 0/708920 [00:00<?, ? examples/s]"
      ]
     },
     "metadata": {},
     "output_type": "display_data"
    },
    {
     "data": {
      "application/vnd.jupyter.widget-view+json": {
       "model_id": "23a7313fa68c401b9a62220059300110",
       "version_major": 2,
       "version_minor": 0
      },
      "text/plain": [
       "Map:   0%|          | 0/39792 [00:00<?, ? examples/s]"
      ]
     },
     "metadata": {},
     "output_type": "display_data"
    },
    {
     "data": {
      "application/vnd.jupyter.widget-view+json": {
       "model_id": "f8d1431dc7984c7a8f9a0fb36f1b9d44",
       "version_major": 2,
       "version_minor": 0
      },
      "text/plain": [
       "Map:   0%|          | 0/31426 [00:00<?, ? examples/s]"
      ]
     },
     "metadata": {},
     "output_type": "display_data"
    }
   ],
   "source": [
    "from datasets import concatenate_datasets\n",
    "import gc \n",
    "\n",
    "tagged_splits = []\n",
    "\n",
    "for key, ds in dataset.items():\n",
    "    tagged_ds = ds.map(\n",
    "        lambda examples: {\"origin\": [key] * len(examples[\"input\"])},\n",
    "        batched=True\n",
    "    )    \n",
    "    tagged_splits.append(tagged_ds)\n",
    "    gc.collect()\n",
    "\n",
    "merged_dataset = concatenate_datasets(tagged_splits)"
   ]
  },
  {
   "cell_type": "code",
   "execution_count": 4,
   "metadata": {},
   "outputs": [
    {
     "data": {
      "text/plain": [
       "Dataset({\n",
       "    features: ['input', 'output', 'category', 'license', 'reasoning', 'generator', 'used_in_training', 'origin'],\n",
       "    num_rows: 30233785\n",
       "})"
      ]
     },
     "execution_count": 4,
     "metadata": {},
     "output_type": "execute_result"
    }
   ],
   "source": [
    "merged_dataset"
   ]
  },
  {
   "cell_type": "markdown",
   "metadata": {},
   "source": [
    "## Sample data\n",
    "\n",
    "Let's us sample some data to see what values are encapsulated in the rows:"
   ]
  },
  {
   "cell_type": "code",
   "execution_count": 8,
   "metadata": {},
   "outputs": [
    {
     "data": {
      "text/html": [
       "<div>\n",
       "<style scoped>\n",
       "    .dataframe tbody tr th:only-of-type {\n",
       "        vertical-align: middle;\n",
       "    }\n",
       "\n",
       "    .dataframe tbody tr th {\n",
       "        vertical-align: top;\n",
       "    }\n",
       "\n",
       "    .dataframe thead th {\n",
       "        text-align: right;\n",
       "    }\n",
       "</style>\n",
       "<table border=\"1\" class=\"dataframe\">\n",
       "  <thead>\n",
       "    <tr style=\"text-align: right;\">\n",
       "      <th></th>\n",
       "      <th>input</th>\n",
       "      <th>output</th>\n",
       "      <th>category</th>\n",
       "      <th>license</th>\n",
       "      <th>reasoning</th>\n",
       "      <th>generator</th>\n",
       "      <th>used_in_training</th>\n",
       "      <th>origin</th>\n",
       "    </tr>\n",
       "  </thead>\n",
       "  <tbody>\n",
       "    <tr>\n",
       "      <th>0</th>\n",
       "      <td>&lt;|begin_of_text|&gt;&lt;|start_header_id|&gt;system&lt;|en...</td>\n",
       "      <td>&lt;think&gt;\\nOkay, I need to write a Python functi...</td>\n",
       "      <td>code</td>\n",
       "      <td>cc-by-4.0</td>\n",
       "      <td>on</td>\n",
       "      <td>DeepSeek-R1</td>\n",
       "      <td>yes</td>\n",
       "      <td>code</td>\n",
       "    </tr>\n",
       "    <tr>\n",
       "      <th>1</th>\n",
       "      <td>&lt;|begin_of_text|&gt;&lt;|start_header_id|&gt;system&lt;|en...</td>\n",
       "      <td>&lt;think&gt;\\nOkay, let's see. The problem is to fi...</td>\n",
       "      <td>code</td>\n",
       "      <td>cc-by-4.0</td>\n",
       "      <td>on</td>\n",
       "      <td>DeepSeek-R1</td>\n",
       "      <td>yes</td>\n",
       "      <td>code</td>\n",
       "    </tr>\n",
       "    <tr>\n",
       "      <th>2</th>\n",
       "      <td>&lt;|begin_of_text|&gt;&lt;|start_header_id|&gt;system&lt;|en...</td>\n",
       "      <td>&lt;think&gt;\\nOkay, I need to write a Python functi...</td>\n",
       "      <td>code</td>\n",
       "      <td>cc-by-4.0</td>\n",
       "      <td>on</td>\n",
       "      <td>DeepSeek-R1</td>\n",
       "      <td>yes</td>\n",
       "      <td>code</td>\n",
       "    </tr>\n",
       "    <tr>\n",
       "      <th>3</th>\n",
       "      <td>&lt;|begin_of_text|&gt;&lt;|start_header_id|&gt;system&lt;|en...</td>\n",
       "      <td>&lt;think&gt;\\nOkay, let's see. The problem is to re...</td>\n",
       "      <td>code</td>\n",
       "      <td>cc-by-4.0</td>\n",
       "      <td>on</td>\n",
       "      <td>DeepSeek-R1</td>\n",
       "      <td>yes</td>\n",
       "      <td>code</td>\n",
       "    </tr>\n",
       "    <tr>\n",
       "      <th>4</th>\n",
       "      <td>&lt;|begin_of_text|&gt;&lt;|start_header_id|&gt;system&lt;|en...</td>\n",
       "      <td>&lt;think&gt;\\nOkay, I need to sort an array in asce...</td>\n",
       "      <td>code</td>\n",
       "      <td>cc-by-4.0</td>\n",
       "      <td>on</td>\n",
       "      <td>DeepSeek-R1</td>\n",
       "      <td>yes</td>\n",
       "      <td>code</td>\n",
       "    </tr>\n",
       "  </tbody>\n",
       "</table>\n",
       "</div>"
      ],
      "text/plain": [
       "                                               input  \\\n",
       "0  <|begin_of_text|><|start_header_id|>system<|en...   \n",
       "1  <|begin_of_text|><|start_header_id|>system<|en...   \n",
       "2  <|begin_of_text|><|start_header_id|>system<|en...   \n",
       "3  <|begin_of_text|><|start_header_id|>system<|en...   \n",
       "4  <|begin_of_text|><|start_header_id|>system<|en...   \n",
       "\n",
       "                                              output category    license  \\\n",
       "0  <think>\\nOkay, I need to write a Python functi...     code  cc-by-4.0   \n",
       "1  <think>\\nOkay, let's see. The problem is to fi...     code  cc-by-4.0   \n",
       "2  <think>\\nOkay, I need to write a Python functi...     code  cc-by-4.0   \n",
       "3  <think>\\nOkay, let's see. The problem is to re...     code  cc-by-4.0   \n",
       "4  <think>\\nOkay, I need to sort an array in asce...     code  cc-by-4.0   \n",
       "\n",
       "  reasoning    generator used_in_training origin  \n",
       "0        on  DeepSeek-R1              yes   code  \n",
       "1        on  DeepSeek-R1              yes   code  \n",
       "2        on  DeepSeek-R1              yes   code  \n",
       "3        on  DeepSeek-R1              yes   code  \n",
       "4        on  DeepSeek-R1              yes   code  "
      ]
     },
     "execution_count": 8,
     "metadata": {},
     "output_type": "execute_result"
    }
   ],
   "source": [
    "sample = merged_dataset.select(range(5))\n",
    "sample.to_pandas()\n"
   ]
  },
  {
   "cell_type": "markdown",
   "metadata": {},
   "source": [
    "## License\n",
    "\n",
    "License is an interresting column to explore. Let's explore what unique values there are and what the count for them is."
   ]
  },
  {
   "cell_type": "code",
   "execution_count": 9,
   "metadata": {},
   "outputs": [
    {
     "name": "stdout",
     "output_type": "stream",
     "text": [
      "cc-by-4.0: 30051023\n",
      "cc-by-sa: 172514\n",
      "odc-by: 10248\n"
     ]
    }
   ],
   "source": [
    "from collections import Counter\n",
    "\n",
    "license_counts = Counter(merged_dataset[\"license\"])\n",
    "\n",
    "for license_name, count in license_counts.items():\n",
    "    print(f\"{license_name}: {count}\")"
   ]
  },
  {
   "cell_type": "markdown",
   "metadata": {},
   "source": []
  },
  {
   "cell_type": "markdown",
   "metadata": {},
   "source": [
    "## Category"
   ]
  },
  {
   "cell_type": "code",
   "execution_count": 12,
   "metadata": {},
   "outputs": [
    {
     "name": "stdout",
     "output_type": "stream",
     "text": [
      "code: 9612677\n",
      "math: 19840970\n",
      "science: 708920\n",
      "chat: 39792\n",
      "safety: 31426\n"
     ]
    }
   ],
   "source": [
    "from collections import Counter\n",
    "\n",
    "category_counts = Counter(merged_dataset[\"category\"])\n",
    "\n",
    "for category_name, count in category_counts.items():\n",
    "    print(f\"{category_name}: {count}\")"
   ]
  },
  {
   "cell_type": "markdown",
   "metadata": {},
   "source": [
    "## Reasoning\n",
    "\n",
    "The nemotron models were trained to turn on and off reasoning, so there are plenty of data entries that are without the typical `<think>` tokens. Let's filter out all non-reasoning."
   ]
  },
  {
   "cell_type": "code",
   "execution_count": 10,
   "metadata": {},
   "outputs": [
    {
     "data": {
      "application/vnd.jupyter.widget-view+json": {
       "model_id": "bc2ef3b4e3f44b639250e61ecdd45436",
       "version_major": 2,
       "version_minor": 0
      },
      "text/plain": [
       "Filter:   0%|          | 0/30233785 [00:00<?, ? examples/s]"
      ]
     },
     "metadata": {},
     "output_type": "display_data"
    },
    {
     "data": {
      "text/plain": [
       "Dataset({\n",
       "    features: ['input', 'output', 'category', 'license', 'reasoning', 'generator', 'used_in_training', 'origin'],\n",
       "    num_rows: 1228707\n",
       "})"
      ]
     },
     "execution_count": 10,
     "metadata": {},
     "output_type": "execute_result"
    }
   ],
   "source": [
    "filtered = merged_dataset.filter(lambda x: \"on\" in x[\"reasoning\"])\n",
    "filtered"
   ]
  },
  {
   "cell_type": "markdown",
   "metadata": {},
   "source": []
  }
 ],
 "metadata": {
  "kernelspec": {
   "display_name": "smol",
   "language": "python",
   "name": "python3"
  },
  "language_info": {
   "codemirror_mode": {
    "name": "ipython",
    "version": 3
   },
   "file_extension": ".py",
   "mimetype": "text/x-python",
   "name": "python",
   "nbconvert_exporter": "python",
   "pygments_lexer": "ipython3",
   "version": "3.11.5"
  }
 },
 "nbformat": 4,
 "nbformat_minor": 2
}
