{
 "cells": [
  {
   "cell_type": "code",
   "execution_count": 1,
   "metadata": {},
   "outputs": [
    {
     "data": {
      "text/html": [
       "<pre style=\"white-space:pre;overflow-x:auto;line-height:normal;font-family:Menlo,'DejaVu Sans Mono',consolas,'Courier New',monospace\"><span style=\"color: #d4b702; text-decoration-color: #d4b702\">╭──────────────────────────────────────────────────── </span><span style=\"color: #d4b702; text-decoration-color: #d4b702; font-weight: bold\">New run</span><span style=\"color: #d4b702; text-decoration-color: #d4b702\"> ────────────────────────────────────────────────────╮</span>\n",
       "<span style=\"color: #d4b702; text-decoration-color: #d4b702\">│</span>                                                                                                                 <span style=\"color: #d4b702; text-decoration-color: #d4b702\">│</span>\n",
       "<span style=\"color: #d4b702; text-decoration-color: #d4b702\">│</span> <span style=\"font-weight: bold\">Search for the best music recommendations for a party at the Wayne's mansion.</span>                                   <span style=\"color: #d4b702; text-decoration-color: #d4b702\">│</span>\n",
       "<span style=\"color: #d4b702; text-decoration-color: #d4b702\">│</span>                                                                                                                 <span style=\"color: #d4b702; text-decoration-color: #d4b702\">│</span>\n",
       "<span style=\"color: #d4b702; text-decoration-color: #d4b702\">╰─ HfApiModel - Qwen/Qwen2.5-Coder-32B-Instruct ──────────────────────────────────────────────────────────────────╯</span>\n",
       "</pre>\n"
      ],
      "text/plain": [
       "\u001b[38;2;212;183;2m╭─\u001b[0m\u001b[38;2;212;183;2m───────────────────────────────────────────────────\u001b[0m\u001b[38;2;212;183;2m \u001b[0m\u001b[1;38;2;212;183;2mNew run\u001b[0m\u001b[38;2;212;183;2m \u001b[0m\u001b[38;2;212;183;2m───────────────────────────────────────────────────\u001b[0m\u001b[38;2;212;183;2m─╮\u001b[0m\n",
       "\u001b[38;2;212;183;2m│\u001b[0m                                                                                                                 \u001b[38;2;212;183;2m│\u001b[0m\n",
       "\u001b[38;2;212;183;2m│\u001b[0m \u001b[1mSearch for the best music recommendations for a party at the Wayne's mansion.\u001b[0m                                   \u001b[38;2;212;183;2m│\u001b[0m\n",
       "\u001b[38;2;212;183;2m│\u001b[0m                                                                                                                 \u001b[38;2;212;183;2m│\u001b[0m\n",
       "\u001b[38;2;212;183;2m╰─\u001b[0m\u001b[38;2;212;183;2m HfApiModel - Qwen/Qwen2.5-Coder-32B-Instruct \u001b[0m\u001b[38;2;212;183;2m─────────────────────────────────────────────────────────────────\u001b[0m\u001b[38;2;212;183;2m─╯\u001b[0m\n"
      ]
     },
     "metadata": {},
     "output_type": "display_data"
    },
    {
     "data": {
      "text/html": [
       "<pre style=\"white-space:pre;overflow-x:auto;line-height:normal;font-family:Menlo,'DejaVu Sans Mono',consolas,'Courier New',monospace\"><span style=\"color: #d4b702; text-decoration-color: #d4b702\">━━━━━━━━━━━━━━━━━━━━━━━━━━━━━━━━━━━━━━━━━━━━━━━━━━━━━ </span><span style=\"font-weight: bold\">Step </span><span style=\"color: #008080; text-decoration-color: #008080; font-weight: bold\">1</span><span style=\"color: #d4b702; text-decoration-color: #d4b702\"> ━━━━━━━━━━━━━━━━━━━━━━━━━━━━━━━━━━━━━━━━━━━━━━━━━━━━━━</span>\n",
       "</pre>\n"
      ],
      "text/plain": [
       "\u001b[38;2;212;183;2m━━━━━━━━━━━━━━━━━━━━━━━━━━━━━━━━━━━━━━━━━━━━━━━━━━━━━ \u001b[0m\u001b[1mStep \u001b[0m\u001b[1;36m1\u001b[0m\u001b[38;2;212;183;2m ━━━━━━━━━━━━━━━━━━━━━━━━━━━━━━━━━━━━━━━━━━━━━━━━━━━━━━\u001b[0m\n"
      ]
     },
     "metadata": {},
     "output_type": "display_data"
    },
    {
     "data": {
      "text/html": [
       "<pre style=\"white-space:pre;overflow-x:auto;line-height:normal;font-family:Menlo,'DejaVu Sans Mono',consolas,'Courier New',monospace\">╭─────────────────────────────────────────────────────────────────────────────────────────────────────────────────╮\n",
       "│ Calling tool: 'web_search' with arguments: {'query': \"best music recommendations for a party at Wayne's mansion │\n",
       "│ in Gotham City\"}                                                                                                │\n",
       "╰─────────────────────────────────────────────────────────────────────────────────────────────────────────────────╯\n",
       "</pre>\n"
      ],
      "text/plain": [
       "╭─────────────────────────────────────────────────────────────────────────────────────────────────────────────────╮\n",
       "│ Calling tool: 'web_search' with arguments: {'query': \"best music recommendations for a party at Wayne's mansion │\n",
       "│ in Gotham City\"}                                                                                                │\n",
       "╰─────────────────────────────────────────────────────────────────────────────────────────────────────────────────╯\n"
      ]
     },
     "metadata": {},
     "output_type": "display_data"
    },
    {
     "data": {
      "text/html": [
       "<pre style=\"white-space:pre;overflow-x:auto;line-height:normal;font-family:Menlo,'DejaVu Sans Mono',consolas,'Courier New',monospace\">Observations: ## Search Results\n",
       "\n",
       "|Bruce Wayne playlist | Gotham city aesthetic - YouTube<span style=\"font-weight: bold\">](</span><span style=\"color: #0000ff; text-decoration-color: #0000ff; text-decoration: underline\">https://m.youtube.com/watch?v=_TZmzoZ8aic)</span>\n",
       "spotify: \n",
       "<span style=\"color: #0000ff; text-decoration-color: #0000ff; text-decoration: underline\">https://open.spotify.com/playlist/5B8j8d8iLTo4fErcyD5C5g?si=79d2301f8204467a&amp;pt=12d4bd00dfa99d0c2cc298d6cde49a74I</span> \n",
       "do not own any rights to any of th<span style=\"color: #808000; text-decoration-color: #808000\">...</span>\n",
       "\n",
       "|i found the wayne mansion, guess where it is : r/GothamKnights - \n",
       "Reddit<span style=\"font-weight: bold\">](</span><span style=\"color: #0000ff; text-decoration-color: #0000ff; text-decoration: underline\">https://www.reddit.com/r/GothamKnights/comments/zssjhq/i_found_the_wayne_mansion_guess_where_it_is/)</span>\n",
       "I've just found Wayne manor it's behind arkham asylum I'd say northeast it'd outside the play zone the other wall \n",
       "are still intact it's probably the center of the house that's collapsed. If you stand on the tallest building in \n",
       "between crown point Ave, Scituate street, Sheldon hill road, and Atlantic Avenue right next to the water you'll see\n",
       "it.\n",
       "\n",
       "|Elegant Batman Themed Party Ideas For Adults - Entertaining \n",
       "Diva<span style=\"font-weight: bold\">](</span><span style=\"color: #0000ff; text-decoration-color: #0000ff; text-decoration: underline\">https://www.entertainingdiva.com/batman-party-ideas/)</span>\n",
       "When people first walked into the party, the first thing they saw was the Gotham City skyline. I hung this skyline \n",
       "scene setter* around the walls of my entry hallway. <span style=\"font-weight: bold\">(</span>One of my favorite ways to completely transform a space for a \n",
       "party!<span style=\"font-weight: bold\">)</span> And switched out the regular light bulbs for red ones in the overhead light fixture.\n",
       "\n",
       "|The ultimate guide to Gotham City for the die-hard fans of \n",
       "Batman<span style=\"font-weight: bold\">](</span><span style=\"color: #0000ff; text-decoration-color: #0000ff; text-decoration: underline\">https://www.lifestyleasia.com/ind/entertainment/guide-to-gotham-city-the-batman-wayne-manor-batcave/)</span>\n",
       "Wayne Tower. Wayne Enterprises is the headquarters of Bruce's business. The building in which it is housed is \n",
       "called Wayne Tower. It serves as a landmark of Gotham City and its symbolic hope, quite like the Empire State \n",
       "Building in real-world New York City. The Wayne Tower is particularly known for its gargoyles — a Gothic \n",
       "architectural <span style=\"color: #808000; text-decoration-color: #808000\">...</span>\n",
       "\n",
       "|Bruce Wayne's Lavish Real Estate | The Hero Gig<span style=\"font-weight: bold\">](</span><span style=\"color: #0000ff; text-decoration-color: #0000ff; text-decoration: underline\">https://www.theherogig.com/copy-of-template-3-1)</span>\n",
       "Wayne Manor located in the outskirts of Gotham City was first built in the 19th century by Bruce Wayne's ancestors.\n",
       "This mansion boasts a dozen bedrooms filled with luxury amenities. Did you know? Real life Wayne Manor is called \n",
       "Wollaton Hall located in the UK.\n",
       "\n",
       "|The Wayne Foundation \n",
       "Gala<span style=\"font-weight: bold\">](</span><span style=\"color: #0000ff; text-decoration-color: #0000ff; text-decoration: underline\">https://www.facebook.com/gothamcitymidnight/videos/the-wayne-foundation-gala/1225249412199040/)</span>\n",
       "Gotham City Midnight p o e S s n o d r t , <span style=\"color: #008080; text-decoration-color: #008080; font-weight: bold\">4</span> o <span style=\"color: #008080; text-decoration-color: #008080; font-weight: bold\">2</span> <span style=\"color: #008080; text-decoration-color: #008080; font-weight: bold\">3</span> e <span style=\"color: #008080; text-decoration-color: #008080; font-weight: bold\">1</span> <span style=\"color: #008080; text-decoration-color: #008080; font-weight: bold\">0</span> <span style=\"color: #008080; text-decoration-color: #008080; font-weight: bold\">2</span> u <span style=\"color: #008080; text-decoration-color: #008080; font-weight: bold\">8</span> <span style=\"color: #008080; text-decoration-color: #008080; font-weight: bold\">5</span> <span style=\"color: #008080; text-decoration-color: #008080; font-weight: bold\">2</span> m a <span style=\"color: #008080; text-decoration-color: #008080; font-weight: bold\">4</span> <span style=\"color: #008080; text-decoration-color: #008080; font-weight: bold\">8</span> v m u e <span style=\"color: #008080; text-decoration-color: #008080; font-weight: bold\">7</span> <span style=\"color: #008080; text-decoration-color: #008080; font-weight: bold\">0</span> m r b <span style=\"color: #008080; text-decoration-color: #008080; font-weight: bold\">6</span> l N i m t t <span style=\"color: #008080; text-decoration-color: #008080; font-weight: bold\">1</span> <span style=\"color: #008080; text-decoration-color: #008080; font-weight: bold\">1</span> i <span style=\"color: #008080; text-decoration-color: #008080; font-weight: bold\">1</span> \n",
       "<span style=\"color: #008080; text-decoration-color: #008080; font-weight: bold\">1</span> <span style=\"color: #008080; text-decoration-color: #008080; font-weight: bold\">6</span> <span style=\"color: #008080; text-decoration-color: #008080; font-weight: bold\">3</span> g <span style=\"color: #008080; text-decoration-color: #008080; font-weight: bold\">2</span> u i <span style=\"color: #008080; text-decoration-color: #008080; font-weight: bold\">0</span> t u h · Shared with Public\n",
       "\n",
       "|﻿Gotham City Midnight Presents: The Wayne Foundation Gala<span style=\"font-weight: bold\">](</span><span style=\"color: #0000ff; text-decoration-color: #0000ff; text-decoration: underline\">https://feverup.com/m/150954/en)</span>\n",
       "The Wayne Foundation Gala, an official DC experience, will be held for the first time and exclusively in Mexico. \n",
       "Wayne Foundation and Gotham City Civic Agencies present a gala where guests can enjoy a four-course dining \n",
       "experience and signature mixology that pays tribute to Gotham City's most famous characters.\n",
       "\n",
       "|<span style=\"font-weight: bold\">(</span>Spoilers<span style=\"font-weight: bold\">)</span> Why isn't there rudimentary security at Wayne \n",
       "Manor?<span style=\"font-weight: bold\">](</span><span style=\"color: #0000ff; text-decoration-color: #0000ff; text-decoration: underline\">https://www.reddit.com/r/Gotham/comments/3v1qv6/spoilers_why_isnt_there_rudimentary_security_at/)</span>\n",
       "I used to work for a guy who was only worth a billion dollars. He lived in a gated community and had a gated home \n",
       "with armed security. He also had a full time driver, house manager, a housekeeper, and a cook, and a couple maids \n",
       "who worked as needed. The fact that Bruce and Alfred just stumble around the house by themselves is stupid.\n",
       "\n",
       "|Where are the interior shots for Wayne Manor shot? Is it a <span style=\"color: #808000; text-decoration-color: #808000\">...</span> - \n",
       "Reddit<span style=\"font-weight: bold\">](</span><span style=\"color: #0000ff; text-decoration-color: #0000ff; text-decoration: underline\">https://www.reddit.com/r/Gotham/comments/2y5jih/where_are_the_interior_shots_for_wayne_manor_shot/)</span>\n",
       "Expand user menu Open settings menu. Log In <span style=\"color: #800080; text-decoration-color: #800080\">/</span> Sign Up; Advertise on Reddit\n",
       "\n",
       "|Wayne Manor - Late Evening - November 21st - \n",
       "gotham-lights.livejournal.com<span style=\"font-weight: bold\">](</span><span style=\"color: #0000ff; text-decoration-color: #0000ff; text-decoration: underline\">https://gotham-lights.livejournal.com/305.html)</span>\n",
       "Wayne Manor at nine o'clock on a Monday night was generally a very quiet place to be. As the clock struck nine on \n",
       "this particular Monday, however, rock music exploded from somewhere on the upper level, washing the entire house \n",
       "with a tidal wave of screams and guitar solos. It only lasted for a…\n",
       "</pre>\n"
      ],
      "text/plain": [
       "Observations: ## Search Results\n",
       "\n",
       "|Bruce Wayne playlist | Gotham city aesthetic - YouTube\u001b[1m]\u001b[0m\u001b[1m(\u001b[0m\u001b[4;94mhttps://m.youtube.com/watch?\u001b[0m\u001b[4;94mv\u001b[0m\u001b[4;94m=\u001b[0m\u001b[4;94m_TZmzoZ8aic\u001b[0m\u001b[4;94m)\u001b[0m\n",
       "spotify: \n",
       "\u001b[4;94mhttps://open.spotify.com/playlist/5B8j8d8iLTo4fErcyD5C5g?\u001b[0m\u001b[4;94msi\u001b[0m\u001b[4;94m=\u001b[0m\u001b[4;94m79d2301f8204467a\u001b[0m\u001b[4;94m&\u001b[0m\u001b[4;94mpt\u001b[0m\u001b[4;94m=\u001b[0m\u001b[4;94m12d4bd00dfa99d0c2cc298d6cde49a74I\u001b[0m \n",
       "do not own any rights to any of th\u001b[33m...\u001b[0m\n",
       "\n",
       "|i found the wayne mansion, guess where it is : r/GothamKnights - \n",
       "Reddit\u001b[1m]\u001b[0m\u001b[1m(\u001b[0m\u001b[4;94mhttps://www.reddit.com/r/GothamKnights/comments/zssjhq/i_found_the_wayne_mansion_guess_where_it_is/\u001b[0m\u001b[4;94m)\u001b[0m\n",
       "I've just found Wayne manor it's behind arkham asylum I'd say northeast it'd outside the play zone the other wall \n",
       "are still intact it's probably the center of the house that's collapsed. If you stand on the tallest building in \n",
       "between crown point Ave, Scituate street, Sheldon hill road, and Atlantic Avenue right next to the water you'll see\n",
       "it.\n",
       "\n",
       "|Elegant Batman Themed Party Ideas For Adults - Entertaining \n",
       "Diva\u001b[1m]\u001b[0m\u001b[1m(\u001b[0m\u001b[4;94mhttps://www.entertainingdiva.com/batman-party-ideas/\u001b[0m\u001b[4;94m)\u001b[0m\n",
       "When people first walked into the party, the first thing they saw was the Gotham City skyline. I hung this skyline \n",
       "scene setter* around the walls of my entry hallway. \u001b[1m(\u001b[0mOne of my favorite ways to completely transform a space for a \n",
       "party!\u001b[1m)\u001b[0m And switched out the regular light bulbs for red ones in the overhead light fixture.\n",
       "\n",
       "|The ultimate guide to Gotham City for the die-hard fans of \n",
       "Batman\u001b[1m]\u001b[0m\u001b[1m(\u001b[0m\u001b[4;94mhttps://www.lifestyleasia.com/ind/entertainment/guide-to-gotham-city-the-batman-wayne-manor-batcave/\u001b[0m\u001b[4;94m)\u001b[0m\n",
       "Wayne Tower. Wayne Enterprises is the headquarters of Bruce's business. The building in which it is housed is \n",
       "called Wayne Tower. It serves as a landmark of Gotham City and its symbolic hope, quite like the Empire State \n",
       "Building in real-world New York City. The Wayne Tower is particularly known for its gargoyles — a Gothic \n",
       "architectural \u001b[33m...\u001b[0m\n",
       "\n",
       "|Bruce Wayne's Lavish Real Estate | The Hero Gig\u001b[1m]\u001b[0m\u001b[1m(\u001b[0m\u001b[4;94mhttps://www.theherogig.com/copy-of-template-3-1\u001b[0m\u001b[4;94m)\u001b[0m\n",
       "Wayne Manor located in the outskirts of Gotham City was first built in the 19th century by Bruce Wayne's ancestors.\n",
       "This mansion boasts a dozen bedrooms filled with luxury amenities. Did you know? Real life Wayne Manor is called \n",
       "Wollaton Hall located in the UK.\n",
       "\n",
       "|The Wayne Foundation \n",
       "Gala\u001b[1m]\u001b[0m\u001b[1m(\u001b[0m\u001b[4;94mhttps://www.facebook.com/gothamcitymidnight/videos/the-wayne-foundation-gala/1225249412199040/\u001b[0m\u001b[4;94m)\u001b[0m\n",
       "Gotham City Midnight p o e S s n o d r t , \u001b[1;36m4\u001b[0m o \u001b[1;36m2\u001b[0m \u001b[1;36m3\u001b[0m e \u001b[1;36m1\u001b[0m \u001b[1;36m0\u001b[0m \u001b[1;36m2\u001b[0m u \u001b[1;36m8\u001b[0m \u001b[1;36m5\u001b[0m \u001b[1;36m2\u001b[0m m a \u001b[1;36m4\u001b[0m \u001b[1;36m8\u001b[0m v m u e \u001b[1;36m7\u001b[0m \u001b[1;36m0\u001b[0m m r b \u001b[1;36m6\u001b[0m l N i m t t \u001b[1;36m1\u001b[0m \u001b[1;36m1\u001b[0m i \u001b[1;36m1\u001b[0m \n",
       "\u001b[1;36m1\u001b[0m \u001b[1;36m6\u001b[0m \u001b[1;36m3\u001b[0m g \u001b[1;36m2\u001b[0m u i \u001b[1;36m0\u001b[0m t u h · Shared with Public\n",
       "\n",
       "|﻿Gotham City Midnight Presents: The Wayne Foundation Gala\u001b[1m]\u001b[0m\u001b[1m(\u001b[0m\u001b[4;94mhttps://feverup.com/m/150954/en\u001b[0m\u001b[4;94m)\u001b[0m\n",
       "The Wayne Foundation Gala, an official DC experience, will be held for the first time and exclusively in Mexico. \n",
       "Wayne Foundation and Gotham City Civic Agencies present a gala where guests can enjoy a four-course dining \n",
       "experience and signature mixology that pays tribute to Gotham City's most famous characters.\n",
       "\n",
       "|\u001b[1m(\u001b[0mSpoilers\u001b[1m)\u001b[0m Why isn't there rudimentary security at Wayne \n",
       "Manor?\u001b[1m]\u001b[0m\u001b[1m(\u001b[0m\u001b[4;94mhttps://www.reddit.com/r/Gotham/comments/3v1qv6/spoilers_why_isnt_there_rudimentary_security_at/\u001b[0m\u001b[4;94m)\u001b[0m\n",
       "I used to work for a guy who was only worth a billion dollars. He lived in a gated community and had a gated home \n",
       "with armed security. He also had a full time driver, house manager, a housekeeper, and a cook, and a couple maids \n",
       "who worked as needed. The fact that Bruce and Alfred just stumble around the house by themselves is stupid.\n",
       "\n",
       "|Where are the interior shots for Wayne Manor shot? Is it a \u001b[33m...\u001b[0m - \n",
       "Reddit\u001b[1m]\u001b[0m\u001b[1m(\u001b[0m\u001b[4;94mhttps://www.reddit.com/r/Gotham/comments/2y5jih/where_are_the_interior_shots_for_wayne_manor_shot/\u001b[0m\u001b[4;94m)\u001b[0m\n",
       "Expand user menu Open settings menu. Log In \u001b[35m/\u001b[0m Sign Up; Advertise on Reddit\n",
       "\n",
       "|Wayne Manor - Late Evening - November 21st - \n",
       "gotham-lights.livejournal.com\u001b[1m]\u001b[0m\u001b[1m(\u001b[0m\u001b[4;94mhttps://gotham-lights.livejournal.com/305.html\u001b[0m\u001b[4;94m)\u001b[0m\n",
       "Wayne Manor at nine o'clock on a Monday night was generally a very quiet place to be. As the clock struck nine on \n",
       "this particular Monday, however, rock music exploded from somewhere on the upper level, washing the entire house \n",
       "with a tidal wave of screams and guitar solos. It only lasted for a…\n"
      ]
     },
     "metadata": {},
     "output_type": "display_data"
    },
    {
     "data": {
      "text/html": [
       "<pre style=\"white-space:pre;overflow-x:auto;line-height:normal;font-family:Menlo,'DejaVu Sans Mono',consolas,'Courier New',monospace\"><span style=\"color: #7f7f7f; text-decoration-color: #7f7f7f\">[Step 1: Duration 2.70 seconds| Input tokens: 1,174 | Output tokens: 30]</span>\n",
       "</pre>\n"
      ],
      "text/plain": [
       "\u001b[2m[Step 1: Duration 2.70 seconds| Input tokens: 1,174 | Output tokens: 30]\u001b[0m\n"
      ]
     },
     "metadata": {},
     "output_type": "display_data"
    },
    {
     "data": {
      "text/html": [
       "<pre style=\"white-space:pre;overflow-x:auto;line-height:normal;font-family:Menlo,'DejaVu Sans Mono',consolas,'Courier New',monospace\"><span style=\"color: #d4b702; text-decoration-color: #d4b702\">━━━━━━━━━━━━━━━━━━━━━━━━━━━━━━━━━━━━━━━━━━━━━━━━━━━━━ </span><span style=\"font-weight: bold\">Step </span><span style=\"color: #008080; text-decoration-color: #008080; font-weight: bold\">2</span><span style=\"color: #d4b702; text-decoration-color: #d4b702\"> ━━━━━━━━━━━━━━━━━━━━━━━━━━━━━━━━━━━━━━━━━━━━━━━━━━━━━━</span>\n",
       "</pre>\n"
      ],
      "text/plain": [
       "\u001b[38;2;212;183;2m━━━━━━━━━━━━━━━━━━━━━━━━━━━━━━━━━━━━━━━━━━━━━━━━━━━━━ \u001b[0m\u001b[1mStep \u001b[0m\u001b[1;36m2\u001b[0m\u001b[38;2;212;183;2m ━━━━━━━━━━━━━━━━━━━━━━━━━━━━━━━━━━━━━━━━━━━━━━━━━━━━━━\u001b[0m\n"
      ]
     },
     "metadata": {},
     "output_type": "display_data"
    },
    {
     "data": {
      "text/html": [
       "<pre style=\"white-space:pre;overflow-x:auto;line-height:normal;font-family:Menlo,'DejaVu Sans Mono',consolas,'Courier New',monospace\">╭─────────────────────────────────────────────────────────────────────────────────────────────────────────────────╮\n",
       "│ Calling tool: 'final_answer' with arguments: {'answer': \"The best music recommendations for a party at Wayne's  │\n",
       "│ mansion include Bruce Wayne playlist | Gotham city aesthetic available on Spotify at                            │\n",
       "│ https://open.spotify.com/playlist/5B8j8d8iLTo4fErcyD5C5g?si=79d2301f8204467a&amp;pt=1d4bd00dfa99d0c2cc298d6cde49a74 │\n",
       "│ I. This playlist captures the essence of Gotham City and the Wayne family, providing a perfect soundtrack for a │\n",
       "│ sophisticated yet fun party atmosphere at the iconic Wayne Manor.\"}                                             │\n",
       "╰─────────────────────────────────────────────────────────────────────────────────────────────────────────────────╯\n",
       "</pre>\n"
      ],
      "text/plain": [
       "╭─────────────────────────────────────────────────────────────────────────────────────────────────────────────────╮\n",
       "│ Calling tool: 'final_answer' with arguments: {'answer': \"The best music recommendations for a party at Wayne's  │\n",
       "│ mansion include Bruce Wayne playlist | Gotham city aesthetic available on Spotify at                            │\n",
       "│ https://open.spotify.com/playlist/5B8j8d8iLTo4fErcyD5C5g?si=79d2301f8204467a&pt=1d4bd00dfa99d0c2cc298d6cde49a74 │\n",
       "│ I. This playlist captures the essence of Gotham City and the Wayne family, providing a perfect soundtrack for a │\n",
       "│ sophisticated yet fun party atmosphere at the iconic Wayne Manor.\"}                                             │\n",
       "╰─────────────────────────────────────────────────────────────────────────────────────────────────────────────────╯\n"
      ]
     },
     "metadata": {},
     "output_type": "display_data"
    },
    {
     "data": {
      "text/html": [
       "<pre style=\"white-space:pre;overflow-x:auto;line-height:normal;font-family:Menlo,'DejaVu Sans Mono',consolas,'Courier New',monospace\"><span style=\"color: #d4b702; text-decoration-color: #d4b702; font-weight: bold\">Final answer: The best music recommendations for a party at Wayne's mansion include Bruce Wayne playlist | Gotham </span>\n",
       "<span style=\"color: #d4b702; text-decoration-color: #d4b702; font-weight: bold\">city aesthetic available on Spotify at </span>\n",
       "<span style=\"color: #d4b702; text-decoration-color: #d4b702; font-weight: bold\">https://open.spotify.com/playlist/5B8j8d8iLTo4fErcyD5C5g?si=79d2301f8204467a&amp;pt=1d4bd00dfa99d0c2cc298d6cde49a74I. </span>\n",
       "<span style=\"color: #d4b702; text-decoration-color: #d4b702; font-weight: bold\">This playlist captures the essence of Gotham City and the Wayne family, providing a perfect soundtrack for a </span>\n",
       "<span style=\"color: #d4b702; text-decoration-color: #d4b702; font-weight: bold\">sophisticated yet fun party atmosphere at the iconic Wayne Manor.</span>\n",
       "</pre>\n"
      ],
      "text/plain": [
       "\u001b[1;38;2;212;183;2mFinal answer: The best music recommendations for a party at Wayne's mansion include Bruce Wayne playlist | Gotham \u001b[0m\n",
       "\u001b[1;38;2;212;183;2mcity aesthetic available on Spotify at \u001b[0m\n",
       "\u001b[1;38;2;212;183;2mhttps://open.spotify.com/playlist/5B8j8d8iLTo4fErcyD5C5g?si=79d2301f8204467a&pt=1d4bd00dfa99d0c2cc298d6cde49a74I. \u001b[0m\n",
       "\u001b[1;38;2;212;183;2mThis playlist captures the essence of Gotham City and the Wayne family, providing a perfect soundtrack for a \u001b[0m\n",
       "\u001b[1;38;2;212;183;2msophisticated yet fun party atmosphere at the iconic Wayne Manor.\u001b[0m\n"
      ]
     },
     "metadata": {},
     "output_type": "display_data"
    },
    {
     "data": {
      "text/html": [
       "<pre style=\"white-space:pre;overflow-x:auto;line-height:normal;font-family:Menlo,'DejaVu Sans Mono',consolas,'Courier New',monospace\"><span style=\"color: #7f7f7f; text-decoration-color: #7f7f7f\">[Step 2: Duration 8.81 seconds| Input tokens: 3,470 | Output tokens: 182]</span>\n",
       "</pre>\n"
      ],
      "text/plain": [
       "\u001b[2m[Step 2: Duration 8.81 seconds| Input tokens: 3,470 | Output tokens: 182]\u001b[0m\n"
      ]
     },
     "metadata": {},
     "output_type": "display_data"
    },
    {
     "data": {
      "text/plain": [
       "\"The best music recommendations for a party at Wayne's mansion include Bruce Wayne playlist | Gotham city aesthetic available on Spotify at https://open.spotify.com/playlist/5B8j8d8iLTo4fErcyD5C5g?si=79d2301f8204467a&pt=1d4bd00dfa99d0c2cc298d6cde49a74I. This playlist captures the essence of Gotham City and the Wayne family, providing a perfect soundtrack for a sophisticated yet fun party atmosphere at the iconic Wayne Manor.\""
      ]
     },
     "execution_count": 1,
     "metadata": {},
     "output_type": "execute_result"
    }
   ],
   "source": [
    "from smolagents import ToolCallingAgent, DuckDuckGoSearchTool, HfApiModel\n",
    "\n",
    "agent = ToolCallingAgent(tools=[DuckDuckGoSearchTool()], model=HfApiModel())\n",
    "\n",
    "agent.run(\"Search for the best music recommendations for a party at the Wayne's mansion.\")"
   ]
  }
 ],
 "metadata": {
  "kernelspec": {
   "display_name": "smol",
   "language": "python",
   "name": "python3"
  },
  "language_info": {
   "codemirror_mode": {
    "name": "ipython",
    "version": 3
   },
   "file_extension": ".py",
   "mimetype": "text/x-python",
   "name": "python",
   "nbconvert_exporter": "python",
   "pygments_lexer": "ipython3",
   "version": "3.11.5"
  }
 },
 "nbformat": 4,
 "nbformat_minor": 2
}
